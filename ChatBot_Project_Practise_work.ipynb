{
 "cells": [
  {
   "cell_type": "markdown",
   "id": "dc117622-908c-4a9a-b9e9-46c4342faeca",
   "metadata": {},
   "source": [
    "### OpenAI Trained Model Tuning on Text-Data\n",
    "- ChatBot_Project_Practise_work"
   ]
  },
  {
   "cell_type": "markdown",
   "id": "b22a8f3d-e488-425d-b272-99651bd0dc2d",
   "metadata": {},
   "source": [
    "### Import Modules"
   ]
  },
  {
   "cell_type": "code",
   "execution_count": 1,
   "id": "8e054893-add7-45df-ab92-1dc127f55ffc",
   "metadata": {},
   "outputs": [],
   "source": [
    "import pandas as pd\n",
    "import openai\n",
    "import pickle\n",
    "import time\n",
    "import numpy as np\n",
    "import matplotlib.pyplot as plt\n",
    "import seaborn as sns\n",
    "import re"
   ]
  },
  {
   "cell_type": "code",
   "execution_count": 2,
   "id": "c512b6b5-e16c-4f21-8453-2022cc5e2c38",
   "metadata": {},
   "outputs": [],
   "source": [
    "from typing import Set\n",
    "from transformers import GPT2TokenizerFast\n",
    "from nltk.tokenize import sent_tokenize\n",
    "tokenizer = GPT2TokenizerFast.from_pretrained(\"gpt2\")"
   ]
  },
  {
   "cell_type": "markdown",
   "id": "4cfdf3de-f631-47a9-8ed6-3a72bdcf8104",
   "metadata": {},
   "source": [
    "### Define Functions"
   ]
  },
  {
   "cell_type": "code",
   "execution_count": 5,
   "id": "4d6ae468-c525-4153-bfca-db21e870ee0a",
   "metadata": {},
   "outputs": [],
   "source": [
    "# Tokenz Count Function >>>>>>>>>>>>>>>>>>>>\n",
    "\n",
    "def count_tokens(text: str) -> int:\n",
    "    \"\"\"count the number of tokens in a string\"\"\"\n",
    "    return len(tokenizer.encode(text))\n",
    "\n",
    "# Paragraph Tokenz length >>>>>>>>>>>>>>\n",
    "\n",
    "def reduce_long(\n",
    "    long_text: str, long_text_tokens: bool = False, max_len: int = 500\n",
    ") -> str:\n",
    "    \"\"\"\n",
    "    Reduce a long text to a maximum of `max_len` tokens by potentially cutting at a sentence end\n",
    "    \"\"\"\n",
    "    if not long_text_tokens:\n",
    "        long_text_tokens = count_tokens(long_text)\n",
    "    if long_text_tokens > max_len:\n",
    "        sentences = sent_tokenize(long_text.replace(\"\\n\", \" \"))\n",
    "        ntokens = 0\n",
    "        for i, sentence in enumerate(sentences):\n",
    "            ntokens += 1 + count_tokens(sentence)\n",
    "            if ntokens > max_len:\n",
    "                return \". \".join(sentences[:i][:-1]) + \".\"\n",
    "\n",
    "    return long_text"
   ]
  },
  {
   "cell_type": "markdown",
   "id": "b8a0229f-ac37-4e82-9191-bc9f87e1c557",
   "metadata": {},
   "source": [
    "### Import Books"
   ]
  },
  {
   "cell_type": "code",
   "execution_count": 363,
   "id": "dd600305-5236-4f2c-a969-d7d6abd03303",
   "metadata": {},
   "outputs": [],
   "source": [
    "book = pd.read_csv('data.csv')"
   ]
  },
  {
   "cell_type": "markdown",
   "id": "1340b696-5ab0-4503-96bc-f6327827f3ec",
   "metadata": {},
   "source": [
    "### Check tokenz and concatenation"
   ]
  },
  {
   "cell_type": "code",
   "execution_count": 364,
   "id": "9bedc924-306a-48e3-95a6-47877f6e7163",
   "metadata": {
    "tags": []
   },
   "outputs": [
    {
     "name": "stdout",
     "output_type": "stream",
     "text": [
      "completed\n"
     ]
    }
   ],
   "source": [
    "short_str = ''\n",
    "res = []\n",
    "tokenz_res = []\n",
    "for line in book['a']:\n",
    "    tokenz = count_tokens(line)\n",
    "    # print(tokenz)\n",
    "    if tokenz < 100:\n",
    "        short_str += line\n",
    "        # print(short_str)\n",
    "    tokenz2 = count_tokens(short_str)\n",
    "    # print(tokenz2)\n",
    "    if tokenz2 > 100:\n",
    "        res.append(short_str)\n",
    "        tokenz_res.append(tokenz2)\n",
    "        short_str = ''\n",
    "data_res = {\n",
    "    'content' : res,\n",
    "    'tokens' : tokenz_res\n",
    "}   \n",
    "print('completed')"
   ]
  },
  {
   "cell_type": "markdown",
   "id": "efb314b2-ab23-4da1-9b1b-1fa8b5999aad",
   "metadata": {
    "tags": []
   },
   "source": [
    "### Converting to DataFrame"
   ]
  },
  {
   "cell_type": "code",
   "execution_count": 365,
   "id": "8e5d0a92-f1b4-4e1d-a1eb-f25db88f2680",
   "metadata": {},
   "outputs": [],
   "source": [
    "new_df = pd.DataFrame(data_res)"
   ]
  },
  {
   "cell_type": "code",
   "execution_count": 366,
   "id": "d76ed920-cf81-490e-b133-2543fef7a15d",
   "metadata": {},
   "outputs": [],
   "source": [
    "new_df.to_csv('Set_Name_Here.csv',na_rep='unknown',index=False)"
   ]
  },
  {
   "cell_type": "code",
   "execution_count": 367,
   "id": "11b9a34b-5b27-4090-b6d4-6770b7d905e1",
   "metadata": {
    "tags": []
   },
   "outputs": [
    {
     "name": "stdout",
     "output_type": "stream",
     "text": [
      "<class 'pandas.core.frame.DataFrame'>\n",
      "RangeIndex: 320 entries, 0 to 319\n",
      "Data columns (total 2 columns):\n",
      " #   Column   Non-Null Count  Dtype \n",
      "---  ------   --------------  ----- \n",
      " 0   content  320 non-null    object\n",
      " 1   tokens   320 non-null    int64 \n",
      "dtypes: int64(1), object(1)\n",
      "memory usage: 5.1+ KB\n"
     ]
    }
   ],
   "source": [
    "new_df.info()"
   ]
  },
  {
   "cell_type": "markdown",
   "id": "3957b936-0c56-411b-a25e-593960fe5427",
   "metadata": {},
   "source": [
    "## Load Models For Embeddings text"
   ]
  },
  {
   "cell_type": "code",
   "execution_count": 3,
   "id": "c8cf616e-df7e-47c9-94b8-d28f4bcf5eef",
   "metadata": {},
   "outputs": [],
   "source": [
    "MODEL_NAME = \"ada\"  \n",
    "\n",
    "DOC_EMBEDDINGS_MODEL = f\"text-search-{MODEL_NAME}-doc-001\"\n",
    "QUERY_EMBEDDINGS_MODEL = f\"text-search-{MODEL_NAME}-query-001\""
   ]
  },
  {
   "cell_type": "markdown",
   "id": "8771ca3e-2700-4eeb-bb26-eb1594d3e4b5",
   "metadata": {},
   "source": [
    "### Embeding Functions"
   ]
  },
  {
   "cell_type": "code",
   "execution_count": 4,
   "id": "e1c69ef3-efe0-410f-884c-fde4379e66b0",
   "metadata": {},
   "outputs": [],
   "source": [
    "# ------------------- >>>>>  Text Embedding Function  <<<<< ----------------------\n",
    "def get_embedding(text: str, model: str) -> list[float]:\n",
    "    # print('get_embedding >>> Working')\n",
    "    \n",
    "    result = openai.Embedding.create(\n",
    "        api_key = \"Add_Your_API-Key Here\",\n",
    "        model=model,\n",
    "        input=text\n",
    "        \n",
    "    )\n",
    "    # time.sleep(1)\n",
    "    return result[\"data\"][0][\"embedding\"]\n",
    "\n",
    "# ------------------ >>>>> Document Embedding Function <<<<< ----------------------\n",
    "def get_doc_embedding(text: str) -> list[float]:\n",
    "    # print('get_doc_embedding >>> Working')\n",
    "    \n",
    "    return get_embedding(text, DOC_EMBEDDINGS_MODEL)\n",
    "\n",
    "\n",
    "# ------------------ >>>>>> Query Embedding function <<<<< -----------------------\n",
    "def get_query_embedding(text: str) -> list[float]:\n",
    "    print('get_query_embedding >>> Working')\n",
    "    result =  get_embedding(text, QUERY_EMBEDDINGS_MODEL)\n",
    "    return result\n",
    "\n",
    "#  -------------- >>>>>>>>>>>> This one for DataFrame  <<<<<<<<< ----------------------\n",
    "\n",
    "def compute_doc_embeddings(df: pd.DataFrame) -> dict[tuple[str, str], list[float]]:\n",
    "    print('compute_doc_embeddings >>> Working')\n",
    "    return { idx: get_doc_embedding(r.content.replace(\"\\n\", \" \")) for idx, r in df.iterrows() }\n",
    "\n",
    "\n",
    "\n",
    "#  --------------------- >>>>>>>> Embedding Load Function  <<<<<<<< ---------------------------\n",
    "def load_embeddings(fname: str) -> dict[tuple[str, str], list[float]]:\n",
    "    df = pd.read_csv(fname, header=0)  # Load a csv file here \n",
    "    max_dim = max([int(c) for c in df.columns if c != \"title\" and c != \"heading\"])\n",
    "    return {(r.title, r.heading): [r[str(i)] for i in range(max_dim + 1)] for _, r in df.iterrows()}"
   ]
  },
  {
   "cell_type": "markdown",
   "id": "ecda57e6-f28e-4e69-9d90-3667ec5cb093",
   "metadata": {},
   "source": [
    "### Load Tokenize CSV File here"
   ]
  },
  {
   "cell_type": "code",
   "execution_count": 6,
   "id": "07ef91e8-7792-482c-9a39-e4234633a95f",
   "metadata": {
    "tags": []
   },
   "outputs": [],
   "source": [
    "# -------------------- >>>>>> Add CSV Book Name <<<<< ---------------\n",
    "Token_file_data = pd.read_csv('Here.csv')"
   ]
  },
  {
   "cell_type": "code",
   "execution_count": 7,
   "id": "cfb706e4-0e09-4465-b66f-19ac18dae133",
   "metadata": {},
   "outputs": [
    {
     "data": {
      "text/plain": [
       "pandas.core.frame.DataFrame"
      ]
     },
     "execution_count": 7,
     "metadata": {},
     "output_type": "execute_result"
    }
   ],
   "source": [
    "type(Token_file_data)"
   ]
  },
  {
   "cell_type": "code",
   "execution_count": 9,
   "id": "20ee9841-d4c7-42e3-9422-e139bbb0e9e8",
   "metadata": {},
   "outputs": [
    {
     "name": "stdout",
     "output_type": "stream",
     "text": [
      "<class 'pandas.core.frame.DataFrame'>\n",
      "RangeIndex: 97 entries, 0 to 96\n",
      "Data columns (total 3 columns):\n",
      " #   Column   Non-Null Count  Dtype \n",
      "---  ------   --------------  ----- \n",
      " 0   title    97 non-null     object\n",
      " 1   content  97 non-null     object\n",
      " 2   tokens   97 non-null     int64 \n",
      "dtypes: int64(1), object(2)\n",
      "memory usage: 2.4+ KB\n"
     ]
    }
   ],
   "source": [
    "need_data = Token_file_data\n",
    "emb_data_book = need_data['title']\n",
    "need_data.info()"
   ]
  },
  {
   "cell_type": "markdown",
   "id": "349c860a-7403-411e-ab83-7f80ad7adb65",
   "metadata": {},
   "source": [
    "## Embedding Data "
   ]
  },
  {
   "cell_type": "code",
   "execution_count": 10,
   "id": "10b488a9-62b4-4803-8d65-06365c9b6a4b",
   "metadata": {
    "tags": []
   },
   "outputs": [],
   "source": [
    "embeded_data_dict = {}"
   ]
  },
  {
   "cell_type": "code",
   "execution_count": null,
   "id": "3b74b559-7ba4-413b-8032-c944a2290d12",
   "metadata": {
    "tags": []
   },
   "outputs": [],
   "source": [
    "end_ind = 50\n",
    "start_ind = 0\n",
    "while start_ind <= len(need_data['content']):\n",
    "    time.sleep(60)\n",
    "    data = compute_doc_embeddings(need_data[start_ind:end_ind])\n",
    "    time.sleep(60)\n",
    "    print(start_ind,end_ind,' ---------- >>>>>>>>> Embedding completed')\n",
    "    start_ind = end_ind\n",
    "    if start_ind < len(need_data['content']):\n",
    "        value = (len(need_data['content']) - start_ind)\n",
    "        if value > 50 : \n",
    "            end_ind += 50\n",
    "            # time.sleep(60)\n",
    "        else:\n",
    "            end_ind += value\n",
    "            # time.sleep(60)\n",
    "        embeded_data_dict.update(data)\n",
    "    else:\n",
    "        embeded_data_dict.update(data)\n",
    "        break\n",
    "    \n",
    "    "
   ]
  },
  {
   "cell_type": "code",
   "execution_count": 25,
   "id": "b1955e24-de04-417e-9141-9e627c001b4a",
   "metadata": {
    "tags": []
   },
   "outputs": [
    {
     "data": {
      "text/plain": [
       "97"
      ]
     },
     "execution_count": 25,
     "metadata": {},
     "output_type": "execute_result"
    }
   ],
   "source": [
    "len(embeded_data_dict)"
   ]
  },
  {
   "cell_type": "markdown",
   "id": "f2f9a094-9a7f-4300-ba26-9b5e43fb8b80",
   "metadata": {
    "tags": []
   },
   "source": [
    "### Converted Embedded data into DataFrame and saved in CSV Formet"
   ]
  },
  {
   "cell_type": "code",
   "execution_count": 26,
   "id": "3f830f41-56d8-45fb-8b27-9ecfd1f59f8c",
   "metadata": {
    "tags": []
   },
   "outputs": [],
   "source": [
    "embedding_df = pd.DataFrame(embeded_data_dict)"
   ]
  },
  {
   "cell_type": "code",
   "execution_count": 27,
   "id": "dd068a8d-6bc7-4631-beb0-7400ae892b86",
   "metadata": {},
   "outputs": [],
   "source": [
    "# -------------- >>> Set CSV Book Name <<< ----------------\n",
    "embedding_df.to_csv('Here.csv',na_rep='unknown',index=False)"
   ]
  },
  {
   "cell_type": "markdown",
   "id": "c1cb0895-d075-4ad2-9886-31a4507fa444",
   "metadata": {},
   "source": [
    "### Check Similarity of text from embedded model\n",
    "- This Block is just for Fun Time"
   ]
  },
  {
   "cell_type": "code",
   "execution_count": 171,
   "id": "aecdf896-826c-4b53-b37d-043698517be7",
   "metadata": {
    "tags": []
   },
   "outputs": [],
   "source": [
    "from openai.embeddings_utils import cosine_similarity \n",
    " \n",
    "def search_reviews(df, product_description, n=5, pprint=True):\n",
    "    embedding = get_query_embedding(product_description) \n",
    "    df['similarities'] = df.apply(lambda x: cosine_similarity(x, embedding))\n",
    "    res = df.sort_values('similarities', ascending=False).head(n)\n",
    "    return res"
   ]
  },
  {
   "cell_type": "code",
   "execution_count": 241,
   "id": "ce1e08af-f4d6-4095-bce2-22271343f7a7",
   "metadata": {
    "tags": []
   },
   "outputs": [
    {
     "name": "stdout",
     "output_type": "stream",
     "text": [
      "get_query_embedding >>> Working\n",
      "get_embedding >>> Working\n"
     ]
    },
    {
     "data": {
      "text/html": [
       "<div>\n",
       "<style scoped>\n",
       "    .dataframe tbody tr th:only-of-type {\n",
       "        vertical-align: middle;\n",
       "    }\n",
       "\n",
       "    .dataframe tbody tr th {\n",
       "        vertical-align: top;\n",
       "    }\n",
       "\n",
       "    .dataframe thead th {\n",
       "        text-align: right;\n",
       "    }\n",
       "</style>\n",
       "<table border=\"1\" class=\"dataframe\">\n",
       "  <thead>\n",
       "    <tr style=\"text-align: right;\">\n",
       "      <th></th>\n",
       "      <th>0</th>\n",
       "      <th>1</th>\n",
       "      <th>2</th>\n",
       "      <th>3</th>\n",
       "      <th>4</th>\n",
       "      <th>5</th>\n",
       "      <th>6</th>\n",
       "      <th>7</th>\n",
       "      <th>8</th>\n",
       "      <th>9</th>\n",
       "      <th>similarities</th>\n",
       "    </tr>\n",
       "  </thead>\n",
       "  <tbody>\n",
       "    <tr>\n",
       "      <th>1</th>\n",
       "      <td>0.010444</td>\n",
       "      <td>-0.000873</td>\n",
       "      <td>-0.016433</td>\n",
       "      <td>-0.006732</td>\n",
       "      <td>-0.007548</td>\n",
       "      <td>-0.007801</td>\n",
       "      <td>-0.019251</td>\n",
       "      <td>-0.019283</td>\n",
       "      <td>-0.008970</td>\n",
       "      <td>-0.006380</td>\n",
       "      <td>0.434068</td>\n",
       "    </tr>\n",
       "    <tr>\n",
       "      <th>0</th>\n",
       "      <td>-0.011969</td>\n",
       "      <td>-0.012721</td>\n",
       "      <td>-0.001982</td>\n",
       "      <td>-0.001667</td>\n",
       "      <td>-0.005569</td>\n",
       "      <td>0.003516</td>\n",
       "      <td>-0.008790</td>\n",
       "      <td>-0.018543</td>\n",
       "      <td>0.008496</td>\n",
       "      <td>0.006119</td>\n",
       "      <td>0.404141</td>\n",
       "    </tr>\n",
       "    <tr>\n",
       "      <th>4</th>\n",
       "      <td>-0.002076</td>\n",
       "      <td>-0.018398</td>\n",
       "      <td>0.003608</td>\n",
       "      <td>0.008050</td>\n",
       "      <td>0.019585</td>\n",
       "      <td>-0.013821</td>\n",
       "      <td>0.000617</td>\n",
       "      <td>-0.001684</td>\n",
       "      <td>0.004514</td>\n",
       "      <td>0.011766</td>\n",
       "      <td>0.298409</td>\n",
       "    </tr>\n",
       "    <tr>\n",
       "      <th>5</th>\n",
       "      <td>0.016675</td>\n",
       "      <td>0.015208</td>\n",
       "      <td>0.003464</td>\n",
       "      <td>-0.002687</td>\n",
       "      <td>-0.005578</td>\n",
       "      <td>0.003711</td>\n",
       "      <td>0.000999</td>\n",
       "      <td>0.007169</td>\n",
       "      <td>-0.000119</td>\n",
       "      <td>-0.000553</td>\n",
       "      <td>0.283364</td>\n",
       "    </tr>\n",
       "    <tr>\n",
       "      <th>9</th>\n",
       "      <td>-0.002439</td>\n",
       "      <td>0.006916</td>\n",
       "      <td>0.010913</td>\n",
       "      <td>-0.016731</td>\n",
       "      <td>0.001728</td>\n",
       "      <td>0.005037</td>\n",
       "      <td>-0.009179</td>\n",
       "      <td>0.002241</td>\n",
       "      <td>-0.010477</td>\n",
       "      <td>-0.001754</td>\n",
       "      <td>0.269173</td>\n",
       "    </tr>\n",
       "  </tbody>\n",
       "</table>\n",
       "</div>"
      ],
      "text/plain": [
       "          0         1         2         3         4         5         6  \\\n",
       "1  0.010444 -0.000873 -0.016433 -0.006732 -0.007548 -0.007801 -0.019251   \n",
       "0 -0.011969 -0.012721 -0.001982 -0.001667 -0.005569  0.003516 -0.008790   \n",
       "4 -0.002076 -0.018398  0.003608  0.008050  0.019585 -0.013821  0.000617   \n",
       "5  0.016675  0.015208  0.003464 -0.002687 -0.005578  0.003711  0.000999   \n",
       "9 -0.002439  0.006916  0.010913 -0.016731  0.001728  0.005037 -0.009179   \n",
       "\n",
       "          7         8         9  similarities  \n",
       "1 -0.019283 -0.008970 -0.006380      0.434068  \n",
       "0 -0.018543  0.008496  0.006119      0.404141  \n",
       "4 -0.001684  0.004514  0.011766      0.298409  \n",
       "5  0.007169 -0.000119 -0.000553      0.283364  \n",
       "9  0.002241 -0.010477 -0.001754      0.269173  "
      ]
     },
     "execution_count": 241,
     "metadata": {},
     "output_type": "execute_result"
    }
   ],
   "source": [
    "# -------------------- >>>>>> Ask the Questions  <<<<<<< ----------------------\n",
    "res = search_reviews(embedding_df, 'here', n=5)\n",
    "res"
   ]
  },
  {
   "cell_type": "markdown",
   "id": "59102c6b-702d-4492-859a-aa89bcc58fa3",
   "metadata": {
    "tags": []
   },
   "source": [
    "## Find similarity with Embedding code and comparing it with Text"
   ]
  },
  {
   "cell_type": "code",
   "execution_count": 28,
   "id": "9fac5995-ae12-4ef8-970c-f9cb378c6f5e",
   "metadata": {},
   "outputs": [],
   "source": [
    "need_data.to_csv('>>>>Add Book-Name here<<<<.csv',na_rep='unknown',index=False)"
   ]
  },
  {
   "cell_type": "code",
   "execution_count": 32,
   "id": "43b70ba6-f4e2-425d-b9cd-db15ee906bc9",
   "metadata": {
    "tags": []
   },
   "outputs": [
    {
     "data": {
      "image/png": "[encoded data removed]",
      "text/plain": [
       "<Figure size 432x288 with 1 Axes>"
      ]
     },
     "metadata": {
      "needs_background": "light"
     },
     "output_type": "display_data"
    }
   ],
   "source": [
    "from openai.embeddings_utils import cosine_similarity\n",
    "\n",
    "data_df = pd.read_csv('Add_your_Data-Book_name_Here.csv')\n",
    "string_text = data_df['content']\n",
    "# Load the embeddings for the text documents\n",
    "embeddings = pd.read_csv('Add_Your_Embedding_book_Here.csv')\n",
    "print(embeddings.shape)\n",
    "\n",
    "# Encode the text query as a vector\n",
    "question = str(input(\"Ask Your Question Here!! : \"))\n",
    "query_vector = get_embedding(question,QUERY_EMBEDDINGS_MODEL)\n",
    "\n",
    "# Compute the cosine similarity between the query vector and the document embeddings\n",
    "similarities = embeddings.apply(lambda x: cosine_similarity(x, query_vector))\n",
    "\n",
    "# Find the indices of the most similar documents\n",
    "most_similar_indices = similarities.argsort()[:len(similarities)-5:-1]\n",
    "\n",
    "plot = sns.barplot(y=similarities, x=most_similar_indices)\n",
    "# Print the text of the most similar documents\n",
    "\n",
    "answer = ''\n",
    "for index in most_similar_indices:\n",
    "    answer += f\"{string_text[index]}\\n\"\n",
    "# print(answer)"
   ]
  },
  {
   "cell_type": "markdown",
   "id": "25265399-d984-4661-9282-7a8462f870e2",
   "metadata": {},
   "source": [
    "### Questions And Answers From Davinci-003"
   ]
  },
  {
   "cell_type": "code",
   "execution_count": null,
   "id": "c0777aba-2f7d-4c5e-ad02-32e47921954d",
   "metadata": {
    "tags": []
   },
   "outputs": [
    {
     "name": "stdout",
     "output_type": "stream",
     "text": [
      "Please Enter Your Question: who is bhukhosi\n"
     ]
    }
   ],
   "source": [
    "COMPLETIONS_MODEL = \"text-davinci-003\"\n",
    "prompt = f' {question} ? \\n{answer}'  # Answer length must under 4000 not exceed from 4096\n",
    "openai.Completion.create(\n",
    "    api_key = 'Add_API-Key here',\n",
    "    prompt=prompt,\n",
    "    temperature=0,\n",
    "    max_tokens=300,\n",
    "    top_p=1,\n",
    "    frequency_penalty=0,\n",
    "    presence_penalty=0,\n",
    "    model=COMPLETIONS_MODEL,\n",
    "    \n",
    ")[\"choices\"][0][\"text\"].strip('\\n')\n"
   ]
  },
  {
   "cell_type": "code",
   "execution_count": null,
   "id": "9f146f57-a2ee-404f-814d-82c0ab943236",
   "metadata": {},
   "outputs": [],
   "source": []
  },
  {
   "cell_type": "code",
   "execution_count": null,
   "id": "66383bd8-7016-4885-8227-4238d4078694",
   "metadata": {},
   "outputs": [],
   "source": []
  }
 ],
 "metadata": {
  "kernelspec": {
   "display_name": "Python 3 (ipykernel)",
   "language": "python",
   "name": "python3"
  },
  "language_info": {
   "codemirror_mode": {
    "name": "ipython",
    "version": 3
   },
   "file_extension": ".py",
   "mimetype": "text/x-python",
   "name": "python",
   "nbconvert_exporter": "python",
   "pygments_lexer": "ipython3",
   "version": "3.9.12"
  },
  "vscode": {
   "interpreter": {
    "hash": "cfa110d0432c4aaf5a43dae143960a774c2268ea6021b61f98c0e48edcafb9b3"
   }
  }
 },
 "nbformat": 4,
 "nbformat_minor": 5
}
